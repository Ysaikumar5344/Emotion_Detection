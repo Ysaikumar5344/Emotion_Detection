{
 "cells": [
  {
   "cell_type": "code",
   "execution_count": 5,
   "id": "3d7d13c0",
   "metadata": {},
   "outputs": [
    {
     "data": {
      "text/plain": [
       "0.925"
      ]
     },
     "execution_count": 5,
     "metadata": {},
     "output_type": "execute_result"
    }
   ],
   "source": [
    "import pandas as pd\n",
    "from sklearn.model_selection import train_test_split\n",
    "from sklearn.feature_extraction.text import CountVectorizer\n",
    "from sklearn.pipeline import Pipeline\n",
    "from sklearn.naive_bayes import MultinomialNB\n",
    "from sklearn.metrics import accuracy_score\n",
    "import pickle\n",
    "\n",
    "# Load the dataset\n",
    "file_path = r\"C:\\Users\\Y SAI KUMAR\\Downloads\\emotions.csv\"\n",
    "df = pd.read_csv(file_path)\n",
    "df['label']=df['label'].map({0:\"Sad\",1:\"Joy\",2:\"Love\",3:\"Anger\",4:\"Fear\",5:\"Surprise\"})\n",
    "\n",
    "# Split the data\n",
    "X = emotions_df['text']\n",
    "y = emotions_df['label']\n",
    "X_train, X_test, y_train, y_test = train_test_split(X, y, test_size=0.2, random_state=42)\n",
    "\n",
    "# Create a pipeline with TfidfVectorizer and LogisticRegression\n",
    "model =Pipeline([(\"Count Vectorizer\",CountVectorizer(stop_words='english')),(\"Naive bayes\",MultinomialNB(alpha=5))])\n",
    "\n",
    "# Train the model\n",
    "model.fit(X,y)\n",
    "y_pred =model.predict(X_test)\n",
    "accuracy_score(y_test,y_pred)\n",
    "\n",
    "pickle.dump(model,open(\"Emotion.pkl\",\"wb\"))"
   ]
  },
  {
   "cell_type": "code",
   "execution_count": null,
   "id": "805e1c1c",
   "metadata": {},
   "outputs": [],
   "source": []
  }
 ],
 "metadata": {
  "kernelspec": {
   "display_name": "Python 3 (ipykernel)",
   "language": "python",
   "name": "python3"
  },
  "language_info": {
   "codemirror_mode": {
    "name": "ipython",
    "version": 3
   },
   "file_extension": ".py",
   "mimetype": "text/x-python",
   "name": "python",
   "nbconvert_exporter": "python",
   "pygments_lexer": "ipython3",
   "version": "3.11.5"
  }
 },
 "nbformat": 4,
 "nbformat_minor": 5
}
